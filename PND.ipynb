{
 "cells": [
  {
   "cell_type": "markdown",
   "id": "9b20c992",
   "metadata": {},
   "source": [
    "# Phone Number Details"
   ]
  },
  {
   "cell_type": "code",
   "execution_count": null,
   "id": "7dd89eaa",
   "metadata": {},
   "outputs": [],
   "source": [
    "pip install phonenumbers"
   ]
  },
  {
   "cell_type": "code",
   "execution_count": null,
   "id": "b9afb404",
   "metadata": {},
   "outputs": [],
   "source": [
    "import phonenumbers"
   ]
  },
  {
   "cell_type": "code",
   "execution_count": null,
   "id": "47dc25b9",
   "metadata": {},
   "outputs": [],
   "source": [
    "from  phonenumbers import timezone,geocoder,carrier"
   ]
  },
  {
   "cell_type": "code",
   "execution_count": null,
   "id": "5d764d77",
   "metadata": {},
   "outputs": [],
   "source": [
    "number = input(\"Enter your number with +__: \")\n",
    "phone = phonenumbers.parse(number)"
   ]
  },
  {
   "cell_type": "code",
   "execution_count": null,
   "id": "94137c72",
   "metadata": {},
   "outputs": [],
   "source": [
    "time = timezone.time_zones_for_number(phone)\n",
    "car = carrier.name_for_number(phone,\"en\")\n",
    "geo = geocoder.description_for_number(phone,\"en\")"
   ]
  },
  {
   "cell_type": "code",
   "execution_count": null,
   "id": "787e52e0",
   "metadata": {},
   "outputs": [],
   "source": [
    "print(number)\n",
    "print(phone)\n",
    "print(car)\n",
    "print(geo)"
   ]
  },
  {
   "cell_type": "code",
   "execution_count": null,
   "id": "80607ac3",
   "metadata": {},
   "outputs": [],
   "source": []
  },
  {
   "cell_type": "code",
   "execution_count": null,
   "id": "26922570",
   "metadata": {},
   "outputs": [],
   "source": []
  },
  {
   "cell_type": "code",
   "execution_count": null,
   "id": "3c83d117",
   "metadata": {},
   "outputs": [],
   "source": []
  },
  {
   "cell_type": "code",
   "execution_count": null,
   "id": "4cbf9737",
   "metadata": {},
   "outputs": [],
   "source": []
  },
  {
   "cell_type": "code",
   "execution_count": null,
   "id": "f9ebd1dc",
   "metadata": {},
   "outputs": [],
   "source": []
  },
  {
   "cell_type": "code",
   "execution_count": null,
   "id": "0b38e00e",
   "metadata": {},
   "outputs": [],
   "source": []
  }
 ],
 "metadata": {
  "kernelspec": {
   "display_name": "Python 3 (ipykernel)",
   "language": "python",
   "name": "python3"
  },
  "language_info": {
   "codemirror_mode": {
    "name": "ipython",
    "version": 3
   },
   "file_extension": ".py",
   "mimetype": "text/x-python",
   "name": "python",
   "nbconvert_exporter": "python",
   "pygments_lexer": "ipython3",
   "version": "3.9.12"
  }
 },
 "nbformat": 4,
 "nbformat_minor": 5
}
